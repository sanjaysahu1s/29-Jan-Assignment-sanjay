{
 "cells": [
  {
   "cell_type": "markdown",
   "id": "8db2b833-e717-478d-a306-b9472a40b4a9",
   "metadata": {},
   "source": [
    "Que. 1) who developed python programing language?"
   ]
  },
  {
   "cell_type": "markdown",
   "id": "567c48a8-4482-4c40-bc10-65fc9879e216",
   "metadata": {},
   "source": [
    "Python programming language was developed by Guido van Rossum"
   ]
  },
  {
   "cell_type": "markdown",
   "id": "7a1210f6-3c38-4f1d-80fa-543943d56643",
   "metadata": {},
   "source": [
    "                            ---------------------------------------------------"
   ]
  },
  {
   "cell_type": "markdown",
   "id": "a79afd8c-0c5d-4c21-9229-dc5c099e7a3d",
   "metadata": {},
   "source": [
    "Que. 2) Which type of Programming does Python support? \n",
    "\n",
    "\n",
    "Answer - The following types of programming does python support :\n",
    "\n",
    "\n",
    "Imperative/Procedural programming\n",
    "\n",
    "Object-Oriented Programming (OOP)\n",
    "        \n",
    "Functional Programming\n",
    "            \n",
    "Scripting"
   ]
  },
  {
   "cell_type": "markdown",
   "id": "96aa95f9-dc52-4085-8f09-3fd6fd4f568b",
   "metadata": {},
   "source": [
    "                           ---------------------------------------------------"
   ]
  },
  {
   "cell_type": "markdown",
   "id": "71eba0ba-bf6e-4a62-969f-c638b6dbb5a4",
   "metadata": {},
   "source": [
    "Que. 3) Is Python case sensitive when dealing with identifiers?  \n",
    "\n",
    "\n",
    "\n",
    "Answer - Yes, Python is a case-sensitive programming language when dealing with identifiers such as variable names, function names, and class names. This means that variables or functions named \"myvar\" and \"MyVar\" are considered as two different identifiers in Python, and cannot be used interchangeably."
   ]
  },
  {
   "cell_type": "markdown",
   "id": "b6a94f8f-b65f-41ba-91ba-f29ccdb73a99",
   "metadata": {},
   "source": [
    "                           ---------------------------------------------------"
   ]
  },
  {
   "cell_type": "markdown",
   "id": "31ea284c-4c14-4f0f-9d8d-d81617072050",
   "metadata": {},
   "source": [
    "Que. 4) What is the correct extension of the Python file? \n",
    "\n",
    "Answer -  The correct extension for a Python file is \".py\"."
   ]
  },
  {
   "cell_type": "markdown",
   "id": "9c285e20-402f-467f-93fc-9a228e49d4c1",
   "metadata": {},
   "source": [
    "                           ---------------------------------------------------"
   ]
  },
  {
   "cell_type": "markdown",
   "id": "eb9b704a-7e27-4b4b-8630-dca5ab89e921",
   "metadata": {},
   "source": [
    "Que. 5) Is Python code compiled or interpreted? \n",
    "\n",
    "\n",
    "Answer - Python is an interpreted language, which means that the source code is executed directly by an interpreter without being compiled into machine code first.\n",
    "\n",
    "When you run a Python program, the interpreter reads the code line by line and executes it one statement at a time. This makes Python a highly dynamic language, as it allows you to write code that can be changed and executed on the fly."
   ]
  },
  {
   "cell_type": "markdown",
   "id": "5ac561fa-92c8-49e9-88f8-977c1286477c",
   "metadata": {},
   "source": [
    "                           ---------------------------------------------------"
   ]
  },
  {
   "cell_type": "markdown",
   "id": "1282b6ed-1f15-4e37-a851-81a50973feb3",
   "metadata": {},
   "source": [
    "Que. 6) Name a few blocks of code used to define in Python language? \n",
    "\n",
    "Answer - There are name of some blocks:\n",
    "\n",
    "Function blocks\n",
    "\n",
    "Class blocks\n",
    "\n",
    "Conditional blocks\n",
    "\n",
    "Loop blocks\n",
    "\n",
    "Exception handling blocks"
   ]
  },
  {
   "cell_type": "markdown",
   "id": "7fad61d8-051f-4a65-a485-3f1b6424ffa9",
   "metadata": {},
   "source": [
    "                           ---------------------------------------------------"
   ]
  },
  {
   "cell_type": "markdown",
   "id": "3ab50e0c-0b92-40e1-b9af-8da07a4d46d3",
   "metadata": {},
   "source": [
    "Que. 7) State a character used to give single-line comments in Python? \n",
    "\n",
    "\n",
    "Answer -  In Python, the \"#\" symbol is used to indicate a single-line comment. "
   ]
  },
  {
   "cell_type": "markdown",
   "id": "5733e1a2-163f-495f-bfbd-c60ccb13de10",
   "metadata": {},
   "source": [
    "                           ---------------------------------------------------"
   ]
  },
  {
   "cell_type": "markdown",
   "id": "3888804b-9982-438c-9030-266a8c87d474",
   "metadata": {},
   "source": [
    "Que. 8) Mention functions which can help us to find the version of python that we are currently working on? \n",
    "\n",
    "\n",
    "Answer - There are several functions in Python that can help us find out the version of the Python interpreter that you are currently working on:\n",
    "\n",
    "- 'sys.version'\n",
    "- 'sys.version_info'\n",
    "- 'platform.python_version()'\n",
    "- 'platform.python_version_tuple()'"
   ]
  },
  {
   "cell_type": "code",
   "execution_count": 1,
   "id": "34ed2fdf-cbfa-47ef-8780-3c6a98cb952a",
   "metadata": {},
   "outputs": [
    {
     "name": "stdout",
     "output_type": "stream",
     "text": [
      "3.10.8 | packaged by conda-forge | (main, Nov 22 2022, 08:26:04) [GCC 10.4.0]\n",
      "sys.version_info(major=3, minor=10, micro=8, releaselevel='final', serial=0)\n",
      "3.10.8\n",
      "('3', '10', '8')\n"
     ]
    }
   ],
   "source": [
    "#example\n",
    "\n",
    "import sys\n",
    "import platform\n",
    "\n",
    "print(sys.version)\n",
    "print(sys.version_info)\n",
    "print(platform.python_version())\n",
    "print(platform.python_version_tuple())"
   ]
  },
  {
   "cell_type": "markdown",
   "id": "220e1c0e-96dd-477b-bc92-55565886ea87",
   "metadata": {},
   "source": [
    "                           ---------------------------------------------------"
   ]
  },
  {
   "cell_type": "markdown",
   "id": "a6638248-59bf-4c65-ac85-e32509622db1",
   "metadata": {},
   "source": [
    "Que. 9) Python supports the creation of anonymous functions at runtime, using a construct called \n",
    "\n",
    "\n",
    "Answer - Python supports the creation of anonymous functions at runtime using a construct called \"lambda\" functions.\n",
    "\n",
    "Lambda functions are small, anonymous functions that can be defined in a single line of code. They are typically used when you need to create a small function that will only be used once and doesn't need a formal definition."
   ]
  },
  {
   "cell_type": "markdown",
   "id": "4816a8d7-1872-4a7c-a2b1-6468d01aa79f",
   "metadata": {},
   "source": [
    "                           ---------------------------------------------------"
   ]
  },
  {
   "cell_type": "markdown",
   "id": "5b9af9fe-da8b-453f-bff5-36a67917312c",
   "metadata": {},
   "source": [
    "Que. 10) What does pip stand for python? \n",
    "\n",
    "\n",
    "Answer - PIP stands for \"Pip Installs Packages\".   \n",
    "\n",
    "PIP is a package manager for Python that allows you to easily install and manage third-party packages and libraries that are not part of the Python standard library. PIP is included by default with Python versions 3.4 and above, and can be used to install packages from the Python Package Index (PyPI) as well as other sources."
   ]
  },
  {
   "cell_type": "markdown",
   "id": "59830f91-c160-4151-a1e5-1108a66fe1c3",
   "metadata": {},
   "source": [
    "                           ---------------------------------------------------"
   ]
  },
  {
   "cell_type": "markdown",
   "id": "b3ab210e-0580-4bfb-91e9-2658d934897a",
   "metadata": {},
   "source": [
    "Que. 11) Mention a few built-in functions in python? "
   ]
  },
  {
   "cell_type": "code",
   "execution_count": null,
   "id": "5da5cde3-af06-4a42-9d40-1909e432282b",
   "metadata": {},
   "outputs": [],
   "source": [
    "Answer - \n",
    "\n",
    "'print()' : Outputs a message to the console or standard output.\n",
    "\n",
    "\n",
    "'input()' : Reads a line of text input from the user through the console or standard input.\n",
    "\n",
    "\n",
    "'len()' : Returns the number of items in a sequence or collection.\n",
    "\n",
    "\n",
    "'type()' : Returns the type of an object.\n",
    "\n",
    "\n",
    "'range()' : Generates a sequence of integers between specified start and end values.\n",
    "\n",
    "\n",
    "'int()', 'float()', 'str()', 'bool()' : Convert values to integer, floating-point, string, and boolean data types, respectively.\n",
    "\n",
    "\n",
    "\n",
    "'max()', 'min()' : Returns the maximum and minimum value of a sequence.\n",
    "\n",
    "\n",
    "'sum()' : Returns the sum of all the values in a sequence.\n",
    "\n",
    "\n",
    "'sorted()' : Returns a sorted list of values from a sequence.\n",
    "\n",
    "\n",
    "'zip()' : Groups together corresponding items from multiple sequences into a single iterable.\n",
    "\n",
    "\n",
    "'enumerate()' : Adds an index to each item in a sequence, returning a new sequence of tuples with each tuple containing the original item and its index.\n",
    "\n",
    "\n",
    "'abs()' : Returns the absolute value of a number.\n"
   ]
  },
  {
   "cell_type": "markdown",
   "id": "359e79da-449f-4cb1-a80b-7bcad57037a3",
   "metadata": {},
   "source": [
    "                           ---------------------------------------------------"
   ]
  },
  {
   "cell_type": "markdown",
   "id": "7922e2b2-b055-407b-9f5d-b69b22f7ccde",
   "metadata": {},
   "source": [
    "Que.12) What is the maximum possible length of an identifier in Python? \n",
    "\n",
    "\n",
    "Answer- The maximum length of an identifier in Python is not explicitly defined. However, Python does have some guidelines and conventions for naming identifiers that you should follow."
   ]
  },
  {
   "cell_type": "markdown",
   "id": "5f533ac1-38f2-40ba-be0e-9d9d851f0e8c",
   "metadata": {},
   "source": [
    "                           ---------------------------------------------------"
   ]
  },
  {
   "cell_type": "markdown",
   "id": "2fda2447-554f-4ae7-b365-02d12c0ebe35",
   "metadata": {},
   "source": [
    "Que. 13) What are the benefits of using Python? \n",
    "\n",
    "\n",
    "Answer- Python is a powerful, versatile, and easy-to-learn programming language that has become increasingly popular in recent years. Here are some of the key benefits of using Python:\n",
    "\n",
    "1) Easy to learn: Python has a simple syntax that is easy to read and write, making it an ideal language for beginners.\n",
    "\n",
    "2) Large standard library: Python has a large standard library that provides a wide range of tools and modules for tasks such as working with files, parsing data, and handling networking.\n",
    "\n",
    "3) Cross-platform compatibility: Python is available for Windows, macOS, Linux, and many other platforms, making it easy to develop and deploy applications across multiple systems.\n",
    "\n",
    "4) Broad range of applications: Python is used in a wide range of fields, including web development, data science, artificial intelligence, machine learning, scientific computing, and more.\n",
    "\n",
    "5) High productivity: Python's simple syntax and powerful features make it a highly productive language for developers, enabling them to write and test code quickly and easily.\n",
    "\n",
    "6) Interpreted language: Python is an interpreted language, meaning that code can be executed directly without the need for compilation, which can save time and simplify the development process.\n",
    "\n",
    "7) Active community: Python has a large and active community of developers who contribute to the language and its ecosystem by creating libraries, tools, and frameworks that extend its capabilities.\n",
    "\n",
    "In summary, Python's ease of use, broad range of applications, cross-platform compatibility, large standard library, and active community make it an excellent choice for developers looking to build efficient, high-quality software."
   ]
  },
  {
   "cell_type": "markdown",
   "id": "9c311adb-4cce-452d-9ce7-88b892ec0c26",
   "metadata": {},
   "source": [
    "                           ---------------------------------------------------"
   ]
  },
  {
   "cell_type": "markdown",
   "id": "dc47e548-c402-4744-a7b9-656551b8593e",
   "metadata": {},
   "source": [
    "Que.14) How is memory managed in Python? \n",
    "\n",
    "\n",
    "Answer- Memory management in Python is performed automatically through a system known as garbage collection. Garbage collection is a process by which the Python interpreter automatically deallocates memory that is no longer needed by the program.\n",
    "\n",
    "Python uses a reference counting system to manage memory. In this system, each object in memory has a reference count that keeps track of how many references point to it. When an object's reference count reaches zero, the memory is automatically deallocated by the garbage collector.\n",
    "\n",
    "In addition to reference counting, Python also uses a technique called cyclic garbage collection to detect and deallocate circular references. A circular reference occurs when two or more objects refer to each other, creating a loop that prevents the reference count of any object from reaching zero. The cyclic garbage collector periodically scans the memory to detect and break circular references, freeing up memory that would otherwise be leaked.\n",
    "\n",
    "Python's memory management system is designed to be efficient and automatic, allowing developers to focus on writing code rather than worrying about memory allocation and deallocation. However, it's important to be aware of memory usage in your program, particularly when dealing with large data sets, to ensure that your program does not run out of memory or become inefficient.\n",
    "\n",
    "\n",
    "\n",
    "\n",
    "\n",
    "\n"
   ]
  },
  {
   "cell_type": "markdown",
   "id": "77b6411e-83b1-4771-bf47-d05a9a8cf8f1",
   "metadata": {},
   "source": [
    "                           ---------------------------------------------------"
   ]
  },
  {
   "cell_type": "markdown",
   "id": "e0af2ebe-c919-4af8-852f-e5edc0dcea96",
   "metadata": {},
   "source": [
    "Que.15) How to install Python on Windows and set path variables?\n",
    "\n",
    "Answer- To install Python on Windows and set path variables, you can follow these steps:\n",
    "\n",
    "1) Go to the official Python website (python.org) and download the latest version of Python for Windows.\n",
    "\n",
    "2) Run the installer and follow the on-screen instructions to install Python on your system.\n",
    "\n",
    "3) During the installation process, make sure to select the option to add Python to your system path, which will allow you to run Python from the command line.\n",
    "\n",
    "4) Once the installation is complete, open a command prompt and type \"python\" to verify that Python is installed and running correctly.\n",
    "\n",
    "5) To set the path variables for Python, right-click on \"My Computer\" or \"This PC\" and select \"Properties\".\n",
    "\n",
    "6) Click on \"Advanced system settings\" and then click on the \"Environment Variables\" button.\n",
    "\n",
    "7) Under \"System variables\", scroll down and select \"Path\", then click the \"Edit\" button.\n",
    "\n",
    "8) Add the path to the Python executable (typically \"C:\\PythonXX;C:\\PythonXX\\Scripts\", where XX is the version number) to the list of paths.\n",
    "\n",
    "9) Click \"OK\" to close all windows and save your changes.\n",
    "\n",
    "That's it! You should now be able to run Python from the command line and use it to develop and run Python programs on your Windows system."
   ]
  },
  {
   "cell_type": "markdown",
   "id": "404d22e5-1c91-4034-a8d9-06e29dc737d0",
   "metadata": {},
   "source": [
    "                           ---------------------------------------------------"
   ]
  },
  {
   "cell_type": "markdown",
   "id": "460dfa5a-e92d-4cb3-8f37-ff1b5c399c5f",
   "metadata": {},
   "source": [
    "Que. 16) Is indentation required in python? \n",
    "\n",
    "Amswer- Yes, indentation is required in Python. In Python, indentation is used to define the scope and structure of the code. Unlike many other programming languages that use curly braces or keywords to define code blocks, Python uses whitespace indentation.\n"
   ]
  },
  {
   "cell_type": "markdown",
   "id": "d3556012-2e88-403f-9be6-3663a4a0ec15",
   "metadata": {},
   "source": [
    "                           ---------------------------------------------------"
   ]
  }
 ],
 "metadata": {
  "kernelspec": {
   "display_name": "Python 3 (ipykernel)",
   "language": "python",
   "name": "python3"
  },
  "language_info": {
   "codemirror_mode": {
    "name": "ipython",
    "version": 3
   },
   "file_extension": ".py",
   "mimetype": "text/x-python",
   "name": "python",
   "nbconvert_exporter": "python",
   "pygments_lexer": "ipython3",
   "version": "3.10.8"
  }
 },
 "nbformat": 4,
 "nbformat_minor": 5
}
